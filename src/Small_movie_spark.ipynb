{
 "cells": [
  {
   "cell_type": "code",
   "execution_count": 7,
   "metadata": {
    "ExecuteTime": {
     "end_time": "2019-11-30T18:23:08.288505Z",
     "start_time": "2019-11-30T18:23:07.151595Z"
    }
   },
   "outputs": [],
   "source": [
    "import os\n",
    "from pyspark.sql import SparkSession\n",
    "import numpy as np\n",
    "import matplotlib.pyplot as plt\n",
    "import matplotlib as mpl\n",
    "import seaborn as sns\n",
    "import missingno as msno\n",
    "import pandas_profiling\n",
    "\n",
    "%matplotlib inline\n",
    "# Customise plots\n",
    "mpl.rcParams['font.sans-serif'] = \"Arial\"\n",
    "mpl.rcParams['font.family'] = \"sans-serif\"\n",
    "mpl.rcParams['xtick.labelsize'] = 12\n",
    "mpl.rcParams['ytick.labelsize'] = 12\n",
    "mpl.rcParams['axes.titlesize'] = 16\n",
    "mpl.rcParams['axes.labelsize'] = 12\n",
    "\n",
    "# Initialise spark\n",
    "spark = SparkSession.builder\\\n",
    "                    .appName('Small_movie')\\\n",
    "                    .master('local[*]')\\\n",
    "                    .getOrCreate()\n",
    "\n",
    "# Load data \n",
    "links = spark.read\\\n",
    "             .csv('../data/links.csv',\\\n",
    "                  header=True)\n",
    "links.createOrReplaceTempView('links')\n",
    "\n",
    "movies = spark.read\\\n",
    "             .csv('../data/movies.csv',\\\n",
    "                  header=True)\n",
    "movies.createOrReplaceTempView('movies')\n",
    "\n",
    "ratings = spark.read\\\n",
    "             .csv('../data/ratings.csv',\\\n",
    "                  header=True)\n",
    "ratings.createOrReplaceTempView('ratings')\n",
    "\n",
    "tags = spark.read\\\n",
    "             .csv('../data/tags.csv',\\\n",
    "                  header=True)\n",
    "tags.createOrReplaceTempView('tags')\n",
    "\n"
   ]
  },
  {
   "cell_type": "code",
   "execution_count": 8,
   "metadata": {
    "ExecuteTime": {
     "end_time": "2019-11-30T18:23:19.477244Z",
     "start_time": "2019-11-30T18:23:19.293332Z"
    }
   },
   "outputs": [
    {
     "name": "stdout",
     "output_type": "stream",
     "text": [
      "-RECORD 0----------\n",
      " movieId | 1       \n",
      " imdbId  | 0114709 \n",
      " tmdbId  | 862     \n",
      "-RECORD 1----------\n",
      " movieId | 2       \n",
      " imdbId  | 0113497 \n",
      " tmdbId  | 8844    \n",
      "-RECORD 2----------\n",
      " movieId | 3       \n",
      " imdbId  | 0113228 \n",
      " tmdbId  | 15602   \n",
      "-RECORD 3----------\n",
      " movieId | 4       \n",
      " imdbId  | 0114885 \n",
      " tmdbId  | 31357   \n",
      "-RECORD 4----------\n",
      " movieId | 5       \n",
      " imdbId  | 0113041 \n",
      " tmdbId  | 11862   \n",
      "only showing top 5 rows\n",
      "\n"
     ]
    }
   ],
   "source": [
    "links.show(5, vertical=True)"
   ]
  },
  {
   "cell_type": "code",
   "execution_count": null,
   "metadata": {},
   "outputs": [],
   "source": []
  }
 ],
 "metadata": {
  "kernelspec": {
   "display_name": "Python 3",
   "language": "python",
   "name": "python3"
  },
  "language_info": {
   "codemirror_mode": {
    "name": "ipython",
    "version": 3
   },
   "file_extension": ".py",
   "mimetype": "text/x-python",
   "name": "python",
   "nbconvert_exporter": "python",
   "pygments_lexer": "ipython3",
   "version": "3.7.5"
  },
  "toc": {
   "base_numbering": 1,
   "nav_menu": {},
   "number_sections": true,
   "sideBar": true,
   "skip_h1_title": false,
   "title_cell": "Table of Contents",
   "title_sidebar": "Contents",
   "toc_cell": false,
   "toc_position": {},
   "toc_section_display": true,
   "toc_window_display": false
  },
  "varInspector": {
   "cols": {
    "lenName": 16,
    "lenType": 16,
    "lenVar": 40
   },
   "kernels_config": {
    "python": {
     "delete_cmd_postfix": "",
     "delete_cmd_prefix": "del ",
     "library": "var_list.py",
     "varRefreshCmd": "print(var_dic_list())"
    },
    "r": {
     "delete_cmd_postfix": ") ",
     "delete_cmd_prefix": "rm(",
     "library": "var_list.r",
     "varRefreshCmd": "cat(var_dic_list()) "
    }
   },
   "types_to_exclude": [
    "module",
    "function",
    "builtin_function_or_method",
    "instance",
    "_Feature"
   ],
   "window_display": false
  }
 },
 "nbformat": 4,
 "nbformat_minor": 2
}
