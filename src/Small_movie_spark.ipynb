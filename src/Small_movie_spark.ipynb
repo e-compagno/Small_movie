{
 "cells": [
  {
   "cell_type": "code",
   "execution_count": 1,
   "metadata": {
    "ExecuteTime": {
     "end_time": "2019-11-30T18:23:08.288505Z",
     "start_time": "2019-11-30T18:23:07.151595Z"
    }
   },
   "outputs": [],
   "source": [
    "import os\n",
    "from pyspark.sql import SparkSession\n",
    "# Import the requisite items\n",
    "from pyspark.ml.evaluation import RegressionEvaluator\n",
    "from pyspark.ml.tuning import ParamGridBuilder, CrossValidator\n",
    "from pyspark.ml.evaluation import RegressionEvaluator\n",
    "from pyspark.ml.recommendation import ALS\n",
    "#from pyspark.sql.functions import monotonically_increasing_id\n",
    "\n",
    "import numpy as np\n",
    "import matplotlib.pyplot as plt\n",
    "import matplotlib as mpl\n",
    "import seaborn as sns\n",
    "import missingno as msno\n",
    "import pandas_profiling\n",
    "\n",
    "%matplotlib inline\n",
    "# Customise plots\n",
    "mpl.rcParams['font.sans-serif'] = \"Arial\"\n",
    "mpl.rcParams['font.family'] = \"sans-serif\"\n",
    "mpl.rcParams['xtick.labelsize'] = 12\n",
    "mpl.rcParams['ytick.labelsize'] = 12\n",
    "mpl.rcParams['axes.titlesize'] = 16\n",
    "mpl.rcParams['axes.labelsize'] = 12\n",
    "\n",
    "# Initialise spark\n",
    "spark = SparkSession.builder\\\n",
    "                    .appName('Small_movie')\\\n",
    "                    .master('local[*]')\\\n",
    "                    .getOrCreate()\n",
    "\n",
    "# Load data \n",
    "links = spark.read\\\n",
    "             .csv('../data/links.csv',\\\n",
    "                  header=True,\\\n",
    "                  inferSchema=True)\n",
    "links.createOrReplaceTempView('links')\n",
    "\n",
    "movies = spark.read\\\n",
    "             .csv('../data/movies.csv',\\\n",
    "                  header=True,\\\n",
    "                  inferSchema=True)\n",
    "movies.createOrReplaceTempView('movies')\n",
    "\n",
    "ratings = spark.read\\\n",
    "             .csv('../data/ratings.csv',\\\n",
    "                  header=True,\\\n",
    "                  inferSchema=True)\n",
    "ratings.createOrReplaceTempView('ratings')\n",
    "\n",
    "tags = spark.read\\\n",
    "             .csv('../data/tags.csv',\\\n",
    "                  header=True,\\\n",
    "                  inferSchema=True)\n",
    "tags.createOrReplaceTempView('tags')\n",
    "\n"
   ]
  },
  {
   "cell_type": "code",
   "execution_count": 2,
   "metadata": {},
   "outputs": [
    {
     "name": "stdout",
     "output_type": "stream",
     "text": [
      "-RECORD 0-----------------------\n",
      " movieId | 1                    \n",
      " title   | Toy Story (1995)     \n",
      " genres  | Adventure|Animati... \n",
      "only showing top 1 row\n",
      "\n"
     ]
    }
   ],
   "source": [
    "movies.show(1, vertical=True)"
   ]
  },
  {
   "cell_type": "code",
   "execution_count": 3,
   "metadata": {},
   "outputs": [
    {
     "name": "stdout",
     "output_type": "stream",
     "text": [
      "-RECORD 0--------------\n",
      " userId    | 1         \n",
      " movieId   | 1         \n",
      " rating    | 4.0       \n",
      " timestamp | 964982703 \n",
      "only showing top 1 row\n",
      "\n"
     ]
    }
   ],
   "source": [
    "ratings.show(1, vertical=True)"
   ]
  },
  {
   "cell_type": "code",
   "execution_count": 4,
   "metadata": {},
   "outputs": [
    {
     "name": "stdout",
     "output_type": "stream",
     "text": [
      "root\n",
      " |-- movieId: integer (nullable = true)\n",
      " |-- userId: integer (nullable = true)\n",
      " |-- rating: double (nullable = true)\n",
      "\n"
     ]
    }
   ],
   "source": [
    "# Select user, movie and rating \n",
    "# join movies and ratings\n",
    "query=\"\"\"\n",
    "SELECT mov.movieId, rat.userId, rat.rating \n",
    "FROM movies as mov\n",
    "INNER JOIN ratings AS rat\n",
    "ON mov.movieId=rat.movieId\n",
    "\"\"\"\n",
    "df = spark.sql(query)\n",
    "df.printSchema()"
   ]
  },
  {
   "cell_type": "code",
   "execution_count": 5,
   "metadata": {},
   "outputs": [
    {
     "name": "stdout",
     "output_type": "stream",
     "text": [
      "-RECORD 0------\n",
      " movieId | 1   \n",
      " userId  | 1   \n",
      " rating  | 4.0 \n",
      "only showing top 1 row\n",
      "\n"
     ]
    }
   ],
   "source": [
    "df.show(1, vertical=True)"
   ]
  },
  {
   "cell_type": "code",
   "execution_count": 6,
   "metadata": {},
   "outputs": [
    {
     "name": "stdout",
     "output_type": "stream",
     "text": [
      "Root-mean-square error = 0.9074217988621893\n"
     ]
    }
   ],
   "source": [
    "# train/test split\n",
    "(training_data, test_data) = df.randomSplit([0.8, 0.2],\\\n",
    "                                                 seed=1234)\n",
    "# ALS Method\n",
    "# rank: number of latent features\n",
    "# regParam: regularisation parameter\n",
    "# coldStartStrategy: avoid user all the ratings in the train set\n",
    "\n",
    "als = ALS(userCol='userId',\\\n",
    "                itemCol='movieId',\\\n",
    "                ratingCol='rating',\\\n",
    "                rank=5,\\\n",
    "                maxIter=10,\\\n",
    "                regParam=0.05,\\\n",
    "                nonnegative=True,\\\n",
    "                coldStartStrategy='drop',\\\n",
    "                implicitPrefs=False)\n",
    "als_model = als.fit(training_data)\n",
    "\n",
    "# Evaluate the model by computing the RMSE on the test data\n",
    "predictions = als_model.transform(test_data)\n",
    "evaluator = RegressionEvaluator(metricName=\"rmse\",\\\n",
    "                                labelCol=\"rating\",\\\n",
    "                                predictionCol=\"prediction\")\n",
    "rmse = evaluator.evaluate(predictions)\n",
    "print(\"Root-mean-square error = \" + str(rmse))"
   ]
  },
  {
   "cell_type": "code",
   "execution_count": 11,
   "metadata": {},
   "outputs": [],
   "source": [
    "# Generate top 10 movie recommendations for each user\n",
    "userRecs = als_model.recommendForAllUsers(10)\n",
    "# Generate top 10 user recommendations for each movie\n",
    "movieRecs = als_model.recommendForAllItems(10)"
   ]
  },
  {
   "cell_type": "code",
   "execution_count": 13,
   "metadata": {},
   "outputs": [
    {
     "name": "stdout",
     "output_type": "stream",
     "text": [
      "+------+--------------------+\n",
      "|userId|     recommendations|\n",
      "+------+--------------------+\n",
      "|   471|[[2282, 5.3079705...|\n",
      "|   463|[[2282, 5.6459827...|\n",
      "|   496|[[159858, 6.47713...|\n",
      "|   148|[[4256, 5.4957056...|\n",
      "|   540|[[2282, 6.4041996...|\n",
      "|   392|[[1468, 6.616458]...|\n",
      "|   243|[[32892, 7.506631...|\n",
      "|    31|[[4389, 7.942636]...|\n",
      "|   516|[[26171, 6.187081...|\n",
      "|   580|[[2282, 6.302004]...|\n",
      "|   251|[[2282, 6.6287565...|\n",
      "|   451|[[2282, 6.49038],...|\n",
      "|    85|[[130634, 6.81259...|\n",
      "|   137|[[183897, 5.14707...|\n",
      "|    65|[[40, 5.4068484],...|\n",
      "|   458|[[26171, 7.968506...|\n",
      "|   481|[[72171, 6.262200...|\n",
      "|    53|[[26171, 8.109869...|\n",
      "|   255|[[5222, 8.669709]...|\n",
      "|   588|[[2282, 5.5627084...|\n",
      "+------+--------------------+\n",
      "only showing top 20 rows\n",
      "\n"
     ]
    }
   ],
   "source": [
    "userRecs.show()"
   ]
  },
  {
   "cell_type": "code",
   "execution_count": 50,
   "metadata": {},
   "outputs": [
    {
     "name": "stdout",
     "output_type": "stream",
     "text": [
      "+------+-------+\n",
      "|userId|movieId|\n",
      "+------+-------+\n",
      "|   471|   2282|\n",
      "|   471|     40|\n",
      "|   471|   3379|\n",
      "|   471|  33649|\n",
      "|   471|   8235|\n",
      "|   471|   3200|\n",
      "|   471|  62293|\n",
      "|   471| 171495|\n",
      "|   471|   5034|\n",
      "|   471| 159858|\n",
      "|   463|   2282|\n",
      "|   463|   5075|\n",
      "|   463|  26133|\n",
      "|   463|     40|\n",
      "|   463|   8235|\n",
      "|   463|   3379|\n",
      "|   463|   3019|\n",
      "|   463| 106100|\n",
      "|   463| 143969|\n",
      "|   463|  33649|\n",
      "+------+-------+\n",
      "only showing top 20 rows\n",
      "\n"
     ]
    }
   ],
   "source": [
    "# TODO: to be completed\n",
    "als_model.recommendForAllUsers(10).registerTempTable('ALS_userRecs_temp')\n",
    "query=\"\"\"\n",
    "SELECT userId,\n",
    "movieIds_and_ratings.movieId AS movieId\n",
    "FROM ALS_userRecs_temp\n",
    "LATERAL VIEW explode(recommendations) exploded_table \n",
    "AS movieIds_and_ratings\n",
    "\"\"\"\n",
    "\n",
    "exploded_recs = spark.sql(query)\n",
    "exploded_recs.show()"
   ]
  },
  {
   "cell_type": "code",
   "execution_count": null,
   "metadata": {},
   "outputs": [],
   "source": []
  },
  {
   "cell_type": "code",
   "execution_count": null,
   "metadata": {},
   "outputs": [],
   "source": [
    "# TODO: complete the grid_search algorithm\n",
    "\"\"\"\n",
    "from pyspark.ml.tuning import ParamGridBuilder\n",
    "\n",
    "# Add hyperparameters and their respective values to param_grid\n",
    "param_grid = ParamGridBuilder() \\\n",
    "            .addGrid(als.rank, [5]) \\\n",
    "            .addGrid(als.maxIter, [10]) \\\n",
    "            .addGrid(als.regParam, [0.01]) \\\n",
    "            .build()\n",
    "\n",
    "# Define evaluator as RMSE and print length of evaluator\n",
    "evaluator = RegressionEvaluator(metricName=\"rmse\",\\\n",
    "                                labelCol=\"rating\",\\\n",
    "                                predictionCol=\"prediction\") \n",
    "print (\"Num models to be tested: \", len(param_grid))\n",
    "\n",
    "# Build cross validation using CrossValidator\n",
    "cv = CrossValidator(estimator=als,\\\n",
    "                    estimatorParamMaps=param_grid,\\\n",
    "                    evaluator=evaluator,\\\n",
    "                    numFolds=2)\n",
    "\n",
    "#Fit cross validator to the 'train' dataset\n",
    "model_grid_ALS = cv.fit(training_data)\n",
    "\n",
    "#Extract best model from the cv model above\n",
    "best_model = model_grid_ALS.bestModel\n",
    "\n",
    "# Print best_model\n",
    "print(type(best_model))\n",
    "\n",
    "# Complete the code below to extract the ALS model parameters\n",
    "print(\"**Best Model**\")\n",
    "\n",
    "# Print \"Rank\"\n",
    "print(\"  Rank:\", best_model.getRank())\n",
    "\n",
    "# Print \"MaxIter\"\n",
    "print(\"  MaxIter:\", best_model.getMaxIter())\n",
    "\n",
    "# Print \"RegParam\"\n",
    "print(\"  RegParam:\", best_model.getRegParam())\n",
    "\"\"\""
   ]
  },
  {
   "cell_type": "code",
   "execution_count": 9,
   "metadata": {},
   "outputs": [
    {
     "name": "stdout",
     "output_type": "stream",
     "text": [
      "<class 'pyspark.ml.recommendation.ALSModel'>\n",
      "**Best Model**\n"
     ]
    },
    {
     "ename": "AttributeError",
     "evalue": "'ALSModel' object has no attribute 'getRank'",
     "output_type": "error",
     "traceback": [
      "\u001b[0;31m---------------------------------------------------------------------------\u001b[0m",
      "\u001b[0;31mAttributeError\u001b[0m                            Traceback (most recent call last)",
      "\u001b[0;32m<ipython-input-9-dd53bc74e35e>\u001b[0m in \u001b[0;36m<module>\u001b[0;34m\u001b[0m\n\u001b[1;32m      9\u001b[0m \u001b[0;34m\u001b[0m\u001b[0m\n\u001b[1;32m     10\u001b[0m \u001b[0;31m# Print \"Rank\"\u001b[0m\u001b[0;34m\u001b[0m\u001b[0;34m\u001b[0m\u001b[0;34m\u001b[0m\u001b[0m\n\u001b[0;32m---> 11\u001b[0;31m \u001b[0mprint\u001b[0m\u001b[0;34m(\u001b[0m\u001b[0;34m\"  Rank:\"\u001b[0m\u001b[0;34m,\u001b[0m \u001b[0mbest_model\u001b[0m\u001b[0;34m.\u001b[0m\u001b[0mgetRank\u001b[0m\u001b[0;34m)\u001b[0m\u001b[0;34m\u001b[0m\u001b[0;34m\u001b[0m\u001b[0m\n\u001b[0m\u001b[1;32m     12\u001b[0m \u001b[0;34m\u001b[0m\u001b[0m\n\u001b[1;32m     13\u001b[0m \u001b[0;31m# Print \"MaxIter\"\u001b[0m\u001b[0;34m\u001b[0m\u001b[0;34m\u001b[0m\u001b[0;34m\u001b[0m\u001b[0m\n",
      "\u001b[0;31mAttributeError\u001b[0m: 'ALSModel' object has no attribute 'getRank'"
     ]
    }
   ],
   "source": []
  },
  {
   "cell_type": "code",
   "execution_count": null,
   "metadata": {},
   "outputs": [],
   "source": []
  }
 ],
 "metadata": {
  "kernelspec": {
   "display_name": "Python 3",
   "language": "python",
   "name": "python3"
  },
  "language_info": {
   "codemirror_mode": {
    "name": "ipython",
    "version": 3
   },
   "file_extension": ".py",
   "mimetype": "text/x-python",
   "name": "python",
   "nbconvert_exporter": "python",
   "pygments_lexer": "ipython3",
   "version": "3.7.4"
  },
  "toc": {
   "base_numbering": 1,
   "nav_menu": {},
   "number_sections": true,
   "sideBar": true,
   "skip_h1_title": false,
   "title_cell": "Table of Contents",
   "title_sidebar": "Contents",
   "toc_cell": false,
   "toc_position": {},
   "toc_section_display": true,
   "toc_window_display": false
  },
  "varInspector": {
   "cols": {
    "lenName": 16,
    "lenType": 16,
    "lenVar": 40
   },
   "kernels_config": {
    "python": {
     "delete_cmd_postfix": "",
     "delete_cmd_prefix": "del ",
     "library": "var_list.py",
     "varRefreshCmd": "print(var_dic_list())"
    },
    "r": {
     "delete_cmd_postfix": ") ",
     "delete_cmd_prefix": "rm(",
     "library": "var_list.r",
     "varRefreshCmd": "cat(var_dic_list()) "
    }
   },
   "types_to_exclude": [
    "module",
    "function",
    "builtin_function_or_method",
    "instance",
    "_Feature"
   ],
   "window_display": false
  }
 },
 "nbformat": 4,
 "nbformat_minor": 2
}
