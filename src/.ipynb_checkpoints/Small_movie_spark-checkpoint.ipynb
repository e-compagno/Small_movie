{
 "cells": [
  {
   "cell_type": "code",
   "execution_count": 26,
   "metadata": {
    "ExecuteTime": {
     "end_time": "2019-11-30T18:23:08.288505Z",
     "start_time": "2019-11-30T18:23:07.151595Z"
    }
   },
   "outputs": [],
   "source": [
    "import os\n",
    "from pyspark.sql import SparkSession\n",
    "#from pyspark.sql.functions import monotonically_increasing_id\n",
    "\n",
    "import numpy as np\n",
    "import matplotlib.pyplot as plt\n",
    "import matplotlib as mpl\n",
    "import seaborn as sns\n",
    "import missingno as msno\n",
    "import pandas_profiling\n",
    "\n",
    "%matplotlib inline\n",
    "# Customise plots\n",
    "mpl.rcParams['font.sans-serif'] = \"Arial\"\n",
    "mpl.rcParams['font.family'] = \"sans-serif\"\n",
    "mpl.rcParams['xtick.labelsize'] = 12\n",
    "mpl.rcParams['ytick.labelsize'] = 12\n",
    "mpl.rcParams['axes.titlesize'] = 16\n",
    "mpl.rcParams['axes.labelsize'] = 12\n",
    "\n",
    "# Initialise spark\n",
    "spark = SparkSession.builder\\\n",
    "                    .appName('Small_movie')\\\n",
    "                    .master('local[*]')\\\n",
    "                    .getOrCreate()\n",
    "\n",
    "# Load data \n",
    "links = spark.read\\\n",
    "             .csv('../data/links.csv',\\\n",
    "                  header=True,\\\n",
    "                  inferSchema=True)\n",
    "links.createOrReplaceTempView('links')\n",
    "\n",
    "movies = spark.read\\\n",
    "             .csv('../data/movies.csv',\\\n",
    "                  header=True,\\\n",
    "                  inferSchema=True)\n",
    "movies.createOrReplaceTempView('movies')\n",
    "\n",
    "ratings = spark.read\\\n",
    "             .csv('../data/ratings.csv',\\\n",
    "                  header=True,\\\n",
    "                  inferSchema=True)\n",
    "ratings.createOrReplaceTempView('ratings')\n",
    "\n",
    "tags = spark.read\\\n",
    "             .csv('../data/tags.csv',\\\n",
    "                  header=True,\\\n",
    "                  inferSchema=True)\n",
    "tags.createOrReplaceTempView('tags')\n",
    "\n"
   ]
  },
  {
   "cell_type": "code",
   "execution_count": 27,
   "metadata": {},
   "outputs": [
    {
     "name": "stdout",
     "output_type": "stream",
     "text": [
      "-RECORD 0-----------------------\n",
      " movieId | 1                    \n",
      " title   | Toy Story (1995)     \n",
      " genres  | Adventure|Animati... \n",
      "only showing top 1 row\n",
      "\n"
     ]
    }
   ],
   "source": [
    "movies.show(1, vertical=True)"
   ]
  },
  {
   "cell_type": "code",
   "execution_count": 28,
   "metadata": {},
   "outputs": [
    {
     "name": "stdout",
     "output_type": "stream",
     "text": [
      "-RECORD 0--------------\n",
      " userId    | 1         \n",
      " movieId   | 1         \n",
      " rating    | 4.0       \n",
      " timestamp | 964982703 \n",
      "only showing top 1 row\n",
      "\n"
     ]
    }
   ],
   "source": [
    "ratings.show(1, vertical=True)"
   ]
  },
  {
   "cell_type": "code",
   "execution_count": 32,
   "metadata": {},
   "outputs": [
    {
     "name": "stdout",
     "output_type": "stream",
     "text": [
      "root\n",
      " |-- movieId: integer (nullable = true)\n",
      " |-- userId: integer (nullable = true)\n",
      " |-- rating: double (nullable = true)\n",
      "\n"
     ]
    }
   ],
   "source": [
    "# Select user, movie and rating \n",
    "# join movies and ratings\n",
    "query=\"\"\"\n",
    "SELECT mov.movieId, rat.userId, rat.rating \n",
    "FROM movies as mov\n",
    "INNER JOIN ratings AS rat\n",
    "ON mov.movieId=rat.movieId\n",
    "\"\"\"\n",
    "df = spark.sql(query)\n",
    "df.printSchema()"
   ]
  },
  {
   "cell_type": "code",
   "execution_count": 30,
   "metadata": {},
   "outputs": [
    {
     "name": "stdout",
     "output_type": "stream",
     "text": [
      "-RECORD 0------\n",
      " movieId | 1   \n",
      " userId  | 1   \n",
      " rating  | 4.0 \n",
      "only showing top 1 row\n",
      "\n"
     ]
    }
   ],
   "source": [
    "df.show(1, vertical=True)"
   ]
  },
  {
   "cell_type": "code",
   "execution_count": 44,
   "metadata": {},
   "outputs": [],
   "source": [
    "from pyspark.ml.evaluation import RegressionEvaluator\n",
    "from pyspark.ml.recommendation import ALS\n",
    "\n",
    "(training_data, test_data) = df.randomSplit([0.8, 0.2],\\\n",
    "                                                 seed=1234)\n",
    "# ALS Method\n",
    "# rank: number of latent features\n",
    "# regParam: regularisation parameter\n",
    "# coldStartStrategy: avoid user all the ratings in the train set\n",
    "\n",
    "als = ALS(userCol='userId',\\\n",
    "                itemCol='movieId',\\\n",
    "                ratingCol='rating',\\\n",
    "                rank=5,\\\n",
    "                maxIter=10,\\\n",
    "                regParam=0.05,\\\n",
    "                nonnegative=True,\\\n",
    "                coldStartStrategy='drop',\\\n",
    "                implicitPrefs=False)\n",
    "als_model = als.fit(training_data)\n",
    "\n",
    "# Evaluate the model by computing the RMSE on the test data\n",
    "predictions = als_model.transform(test_data)\n",
    "evaluator = RegressionEvaluator(metricName=\"rmse\",\\\n",
    "                                labelCol=\"rating\",\\\n",
    "                                predictionCol=\"prediction\")\n",
    "rmse = evaluator.evaluate(predictions)\n",
    "print(\"Root-mean-square error = \" + str(rmse))"
   ]
  }
 ],
 "metadata": {
  "kernelspec": {
   "display_name": "Python 3",
   "language": "python",
   "name": "python3"
  },
  "language_info": {
   "codemirror_mode": {
    "name": "ipython",
    "version": 3
   },
   "file_extension": ".py",
   "mimetype": "text/x-python",
   "name": "python",
   "nbconvert_exporter": "python",
   "pygments_lexer": "ipython3",
   "version": "3.7.4"
  },
  "toc": {
   "base_numbering": 1,
   "nav_menu": {},
   "number_sections": true,
   "sideBar": true,
   "skip_h1_title": false,
   "title_cell": "Table of Contents",
   "title_sidebar": "Contents",
   "toc_cell": false,
   "toc_position": {},
   "toc_section_display": true,
   "toc_window_display": false
  },
  "varInspector": {
   "cols": {
    "lenName": 16,
    "lenType": 16,
    "lenVar": 40
   },
   "kernels_config": {
    "python": {
     "delete_cmd_postfix": "",
     "delete_cmd_prefix": "del ",
     "library": "var_list.py",
     "varRefreshCmd": "print(var_dic_list())"
    },
    "r": {
     "delete_cmd_postfix": ") ",
     "delete_cmd_prefix": "rm(",
     "library": "var_list.r",
     "varRefreshCmd": "cat(var_dic_list()) "
    }
   },
   "types_to_exclude": [
    "module",
    "function",
    "builtin_function_or_method",
    "instance",
    "_Feature"
   ],
   "window_display": false
  }
 },
 "nbformat": 4,
 "nbformat_minor": 2
}
